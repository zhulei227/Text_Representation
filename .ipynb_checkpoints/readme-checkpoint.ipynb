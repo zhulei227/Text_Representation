{
 "cells": [
  {
   "cell_type": "markdown",
   "metadata": {},
   "source": [
    "该项目主要基于gensim对BOW,TFIDF,LDA,LSI,W2V等传统的文本表示模型进行简单的封装，并添加了chi2,互信息等特征选择方法。\n",
    "### 一.BOW模型"
   ]
  },
  {
   "cell_type": "code",
   "execution_count": 1,
   "metadata": {},
   "outputs": [],
   "source": [
    "from nlp_utils import *\n",
    "import warnings\n",
    "warnings.filterwarnings(\"ignore\")"
   ]
  },
  {
   "cell_type": "code",
   "execution_count": 2,
   "metadata": {},
   "outputs": [],
   "source": [
    "BOW = BOWModel(where_is_corpus='./corpus/demo.txt',#语料目录\n",
    "               how_to_extract_text=lambda line: line.split(',')[1],#原始文本的按行提取规则，这里可能会是复杂的正则表达式（据具体情况）\n",
    "               how_to_segment_word=SegmentWordModel().cut_with_preprocess,#按行的分词，这里基于jieba进行分词，当然也可以使用dnn的方法，自行封装即可\n",
    "               where_store_dictionary='./dictionary/bow.dict')#bow模型的保存路径"
   ]
  },
  {
   "cell_type": "code",
   "execution_count": 3,
   "metadata": {},
   "outputs": [
    {
     "name": "stderr",
     "output_type": "stream",
     "text": [
      "Building prefix dict from the default dictionary ...\n",
      "Loading model from cache C:\\Users\\19357\\AppData\\Local\\Temp\\jieba.cache\n",
      "Loading model cost 0.699 seconds.\n",
      "Prefix dict has been built succesfully.\n"
     ]
    },
    {
     "data": {
      "text/plain": [
       "<nlp_utils.BOWModel at 0x2932641ec88>"
      ]
     },
     "execution_count": 3,
     "metadata": {},
     "output_type": "execute_result"
    }
   ],
   "source": [
    "BOW.transfer()#构建模型"
   ]
  },
  {
   "cell_type": "markdown",
   "metadata": {},
   "source": [
    "### 二.特征选择\n",
    "特征选择模块是对现有的BOW模型进行更新，通过FeatureSelectModel对象进行协助，`how_to_select_feature`可以指定tf（词频）、mi（互信息）、ig（信息增益）、chi2（卡方选择）以及gini（gini指数）进行特征选择，`keep_feature_num`指定需要保留多少特征，`how_to_extract_label`用于指定文本label的读取方式（需要传入一个函数），比如如下选择词频最高的前20个特征。"
   ]
  },
  {
   "cell_type": "code",
   "execution_count": 4,
   "metadata": {},
   "outputs": [],
   "source": [
    "BOW.update_corpus_model_with_feature_select(feature_select_model=FeatureSelectModel(keep_feature_num=20,\n",
    "                                                                                    how_to_extract_label=lambda line: int(line.split(',')[0])),\n",
    "                                            how_to_select_feature='tf')\n"
   ]
  },
  {
   "cell_type": "markdown",
   "metadata": {},
   "source": [
    "### 三.编码单篇文本/文本集\n",
    "可以利用`encode_ndarray_text`函数对单篇文本进行编码，利用`encode_ndarray_texts`对文本集进行编码"
   ]
  },
  {
   "cell_type": "code",
   "execution_count": 5,
   "metadata": {},
   "outputs": [
    {
     "name": "stdout",
     "output_type": "stream",
     "text": [
      "bow_matrix:\n",
      " [[0. 0. 0. 0. 0. 0. 0. 0. 1. 0. 0. 0. 0. 0. 0. 0. 0. 0. 0. 0.]\n",
      " [0. 1. 0. 0. 0. 0. 0. 0. 1. 0. 0. 0. 0. 0. 1. 0. 0. 0. 0. 0.]]\n",
      "bow_vector:\n",
      " [0. 1. 0. 0. 0. 0. 0. 0. 1. 0. 0. 0. 0. 0. 0. 0. 0. 0. 0. 0.]\n"
     ]
    }
   ],
   "source": [
    "bow_matrxit = BOW.encode_ndarray_texts([\"微信付款\", \"微信付款可以吗\"])\n",
    "bow_vector = BOW.encode_ndarray_text(\"微信付款可以么\")\n",
    "print('bow_matrix:\\n',bow_matrxit)\n",
    "print('bow_vector:\\n',bow_vector)"
   ]
  },
  {
   "cell_type": "markdown",
   "metadata": {},
   "source": [
    "后续模型的构建与BOW类似，需要注意的是：  \n",
    "1）TFIDF的构建需要依赖于现有的BOW，  \n",
    "2）LDA需要依赖于现有的BOW，  \n",
    "3）LSI需要依赖于现有的TFIDF\n",
    "### 四.TFIDF模型"
   ]
  },
  {
   "cell_type": "code",
   "execution_count": 6,
   "metadata": {},
   "outputs": [
    {
     "name": "stdout",
     "output_type": "stream",
     "text": [
      "tfidf_matrix:\n",
      " [[0. 0. 0. 0. 0. 0. 0. 0. 1. 0. 0. 0. 0. 0. 0. 0. 0. 0. 0. 0.]\n",
      " [0. 0. 0. 0. 0. 0. 0. 0. 1. 0. 0. 0. 0. 0. 0. 0. 0. 0. 0. 0.]]\n",
      "tfidf_vector:\n",
      " [0.        0.9825163 0.        0.        0.        0.        0.\n",
      " 0.        0.1861767 0.        0.        0.        0.        0.\n",
      " 0.        0.        0.        0.        0.        0.       ]\n"
     ]
    }
   ],
   "source": [
    "TFIDF = TfidfModel(base_bow_model=BOW, where_store_tfidf_model='./corpus_model/tfidf.model')\n",
    "TFIDF.transfer()\n",
    "tfidf_matrix = TFIDF.encode_ndarray_texts([\"微信付款\", \"直接微信转账\"])\n",
    "tfidf_vector = TFIDF.encode_ndarray_text(\"微信付款可以么微信付款可以么微信付款可以么微信付款可以么微信付款可以么\")\n",
    "print('tfidf_matrix:\\n',tfidf_matrix)\n",
    "print('tfidf_vector:\\n',tfidf_vector)"
   ]
  },
  {
   "cell_type": "markdown",
   "metadata": {},
   "source": [
    "### 五.LDA模型"
   ]
  },
  {
   "cell_type": "code",
   "execution_count": 7,
   "metadata": {},
   "outputs": [
    {
     "name": "stdout",
     "output_type": "stream",
     "text": [
      "lda_matrix:\n",
      " [[0.5498947  0.05001274 0.05002429 0.05001787 0.05000004 0.05000698\n",
      "  0.05000004 0.05000863 0.05001523 0.05001946]\n",
      " [0.05002203 0.05001203 0.5499015  0.05001691 0.05000004 0.05000659\n",
      "  0.05000004 0.05000815 0.05001438 0.05001838]]\n",
      "lda_vector:\n",
      " [0.9181736 0.        0.        0.        0.        0.        0.\n",
      " 0.        0.        0.       ]\n"
     ]
    }
   ],
   "source": [
    "LDA = LDAModel(base_corpus_model=BOW, where_store_lda_model='./corpus_model/lda.model', topic_num=10)\n",
    "LDA.transfer()\n",
    "lda_matrix = LDA.encode_ndarray_texts([\"微信付款\", \"直接微信转账\"])\n",
    "lda_vector = LDA.encode_ndarray_text(\"微信付款可以么微信付款可以么微信付款可以么微信付款可以么微信付款可以么\")\n",
    "print('lda_matrix:\\n',lda_matrix)\n",
    "print('lda_vector:\\n',lda_vector)"
   ]
  },
  {
   "cell_type": "markdown",
   "metadata": {},
   "source": [
    "### 六.LSI模型\n"
   ]
  },
  {
   "cell_type": "code",
   "execution_count": 8,
   "metadata": {},
   "outputs": [
    {
     "name": "stdout",
     "output_type": "stream",
     "text": [
      "lsi_matrix:\n",
      " [[-0.19483276  0.04543959]\n",
      " [-0.19483276  0.04543959]]\n",
      "lsi_vector:\n",
      " [-0.22905156 -0.27707726]\n"
     ]
    }
   ],
   "source": [
    "LSI = LSIModel(base_corpus_model=TFIDF, where_store_lsi_model='./corpus_model/lsi.model', topic_num=2)\n",
    "LSI.transfer()\n",
    "lsi_matrix = LSI.encode_ndarray_texts([\"微信付款\", \"直接微信转账\"])\n",
    "lsi_vector = LSI.encode_ndarray_text(\"微信付款可以么微信付款可以么微信付款可以么微信付款可以么微信付款可以么\")\n",
    "print('lsi_matrix:\\n',lsi_matrix)\n",
    "print('lsi_vector:\\n',lsi_vector)"
   ]
  },
  {
   "cell_type": "markdown",
   "metadata": {},
   "source": [
    "### 七.W2V模型\n",
    "这里W2V只是简单的对文本中所有词的word2vec向量取平均"
   ]
  },
  {
   "cell_type": "code",
   "execution_count": 9,
   "metadata": {},
   "outputs": [
    {
     "name": "stdout",
     "output_type": "stream",
     "text": [
      "w2v_matrix:\n",
      " [[ 0.08883715 -0.1966573 ]\n",
      " [ 0.08883715 -0.1966573 ]]\n",
      "w2v_vector:\n",
      " [ 0.08883715 -0.1966573 ]\n"
     ]
    }
   ],
   "source": [
    "W2V = Word2VecModel(where_is_corpus='./corpus/demo.txt',\n",
    "                    how_to_extract_text=lambda line: line.split(',')[1],\n",
    "                    how_to_segment_word=SegmentWordModel().cut_with_preprocess,\n",
    "                    where_store_w2v_model='./corpus_model/w2v.model', train_params={'size':2})\n",
    "W2V.transfer()\n",
    "w2v_matrix = W2V.encode_ndarray_texts([\"微信付款\", \"直接微信转账\"])\n",
    "w2v_vector = W2V.encode_ndarray_text(\"微信付款\")\n",
    "print('w2v_matrix:\\n',w2v_matrix)\n",
    "print('w2v_vector:\\n',w2v_vector)"
   ]
  },
  {
   "cell_type": "markdown",
   "metadata": {},
   "source": [
    "### 八.模型保存"
   ]
  },
  {
   "cell_type": "code",
   "execution_count": 10,
   "metadata": {},
   "outputs": [],
   "source": [
    "BOW.save_corpus_model()\n",
    "TFIDF.save_corpus_model()\n",
    "LDA.save_corpus_model()\n",
    "LSI.save_corpus_model()\n",
    "W2V.save_corpus_model()"
   ]
  },
  {
   "cell_type": "code",
   "execution_count": null,
   "metadata": {},
   "outputs": [],
   "source": []
  }
 ],
 "metadata": {
  "kernelspec": {
   "display_name": "Python 3",
   "language": "python",
   "name": "python3"
  },
  "language_info": {
   "codemirror_mode": {
    "name": "ipython",
    "version": 3
   },
   "file_extension": ".py",
   "mimetype": "text/x-python",
   "name": "python",
   "nbconvert_exporter": "python",
   "pygments_lexer": "ipython3",
   "version": "3.6.5"
  }
 },
 "nbformat": 4,
 "nbformat_minor": 2
}
